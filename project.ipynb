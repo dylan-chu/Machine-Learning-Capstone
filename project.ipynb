{
 "cells": [
  {
   "cell_type": "code",
   "execution_count": 1,
   "metadata": {
    "scrolled": true
   },
   "outputs": [
    {
     "data": {
      "text/html": [
       "<div>\n",
       "<style>\n",
       "    .dataframe thead tr:only-child th {\n",
       "        text-align: right;\n",
       "    }\n",
       "\n",
       "    .dataframe thead th {\n",
       "        text-align: left;\n",
       "    }\n",
       "\n",
       "    .dataframe tbody tr th {\n",
       "        vertical-align: top;\n",
       "    }\n",
       "</style>\n",
       "<table border=\"1\" class=\"dataframe\">\n",
       "  <thead>\n",
       "    <tr style=\"text-align: right;\">\n",
       "      <th></th>\n",
       "      <th>date_block_num</th>\n",
       "      <th>shop_id</th>\n",
       "      <th>item_id</th>\n",
       "      <th>item_cnt_day</th>\n",
       "      <th>item_cnt_tm1</th>\n",
       "      <th>item_cnt_tm2</th>\n",
       "      <th>item_cnt_tm12</th>\n",
       "      <th>item_cnt_tp1</th>\n",
       "      <th>categ_id</th>\n",
       "    </tr>\n",
       "  </thead>\n",
       "  <tbody>\n",
       "    <tr>\n",
       "      <th>0</th>\n",
       "      <td>12</td>\n",
       "      <td>2</td>\n",
       "      <td>32</td>\n",
       "      <td>1.0</td>\n",
       "      <td>0.0</td>\n",
       "      <td>0.0</td>\n",
       "      <td>0.0</td>\n",
       "      <td>0.0</td>\n",
       "      <td>40</td>\n",
       "    </tr>\n",
       "    <tr>\n",
       "      <th>1</th>\n",
       "      <td>12</td>\n",
       "      <td>2</td>\n",
       "      <td>33</td>\n",
       "      <td>1.0</td>\n",
       "      <td>1.0</td>\n",
       "      <td>2.0</td>\n",
       "      <td>1.0</td>\n",
       "      <td>0.0</td>\n",
       "      <td>37</td>\n",
       "    </tr>\n",
       "    <tr>\n",
       "      <th>2</th>\n",
       "      <td>12</td>\n",
       "      <td>2</td>\n",
       "      <td>99</td>\n",
       "      <td>1.0</td>\n",
       "      <td>0.0</td>\n",
       "      <td>0.0</td>\n",
       "      <td>0.0</td>\n",
       "      <td>0.0</td>\n",
       "      <td>37</td>\n",
       "    </tr>\n",
       "    <tr>\n",
       "      <th>3</th>\n",
       "      <td>12</td>\n",
       "      <td>2</td>\n",
       "      <td>482</td>\n",
       "      <td>2.0</td>\n",
       "      <td>1.0</td>\n",
       "      <td>2.0</td>\n",
       "      <td>1.0</td>\n",
       "      <td>1.0</td>\n",
       "      <td>73</td>\n",
       "    </tr>\n",
       "    <tr>\n",
       "      <th>4</th>\n",
       "      <td>12</td>\n",
       "      <td>2</td>\n",
       "      <td>485</td>\n",
       "      <td>1.0</td>\n",
       "      <td>1.0</td>\n",
       "      <td>0.0</td>\n",
       "      <td>0.0</td>\n",
       "      <td>1.0</td>\n",
       "      <td>73</td>\n",
       "    </tr>\n",
       "  </tbody>\n",
       "</table>\n",
       "</div>"
      ],
      "text/plain": [
       "   date_block_num  shop_id  item_id  item_cnt_day  item_cnt_tm1  item_cnt_tm2  \\\n",
       "0              12        2       32           1.0           0.0           0.0   \n",
       "1              12        2       33           1.0           1.0           2.0   \n",
       "2              12        2       99           1.0           0.0           0.0   \n",
       "3              12        2      482           2.0           1.0           2.0   \n",
       "4              12        2      485           1.0           1.0           0.0   \n",
       "\n",
       "   item_cnt_tm12  item_cnt_tp1  categ_id  \n",
       "0            0.0           0.0        40  \n",
       "1            1.0           0.0        37  \n",
       "2            0.0           0.0        37  \n",
       "3            1.0           1.0        73  \n",
       "4            0.0           1.0        73  "
      ]
     },
     "execution_count": 1,
     "metadata": {},
     "output_type": "execute_result"
    }
   ],
   "source": [
    "import numpy as np\n",
    "import pandas as pd\n",
    "\n",
    "training_data = pd.read_csv('input/training_data_0_categ.csv')\n",
    "training_data.head()"
   ]
  },
  {
   "cell_type": "code",
   "execution_count": 3,
   "metadata": {},
   "outputs": [],
   "source": [
    "target = training_data['item_cnt_tp1']\n",
    "training_data = training_data.drop('item_cnt_tp1', axis=1)"
   ]
  },
  {
   "cell_type": "code",
   "execution_count": 58,
   "metadata": {},
   "outputs": [
    {
     "name": "stdout",
     "output_type": "stream",
     "text": [
      "Training set has 73912 samples.\n",
      "Training set has 8 columns.\n",
      "Testing set has 18478 samples.\n"
     ]
    }
   ],
   "source": [
    "# Import train_test_split\n",
    "from sklearn.model_selection import train_test_split\n",
    "\n",
    "# Split the 'features' and 'income' data into training and testing sets\n",
    "X_train, X_test, y_train, y_test = train_test_split(training_data, \n",
    "                                                    target, \n",
    "                                                    test_size = 0.2, \n",
    "                                                    random_state = 42)\n",
    "\n",
    "# Show the results of the split\n",
    "print(\"Training set has {} samples.\".format(X_train.shape[0]))\n",
    "print(\"Training set has {} columns.\".format(X_train.shape[1]))\n",
    "print(\"Testing set has {} samples.\".format(X_test.shape[0]))"
   ]
  },
  {
   "cell_type": "code",
   "execution_count": 23,
   "metadata": {},
   "outputs": [
    {
     "name": "stdout",
     "output_type": "stream",
     "text": [
      "Training RMSE: 0.904472671749\n"
     ]
    }
   ],
   "source": [
    "from sklearn.ensemble import RandomForestRegressor\n",
    "from sklearn.metrics import mean_squared_error\n",
    "\n",
    "#learner = RandomForestRegressor(max_depth=10, random_state=42)\n",
    "rfLearner = RandomForestRegressor(random_state=42)\n",
    "learner = rfLearner.fit(X_train, y_train)\n",
    "\n",
    "#start = time() # Get start time\n",
    "predictions_train = rfLearner.predict(X_train)\n",
    "#end = time() # Get end time\n",
    "\n",
    "print('Training RMSE:', np.sqrt(mean_squared_error(y_train, predictions_train)))"
   ]
  },
  {
   "cell_type": "code",
   "execution_count": 24,
   "metadata": {},
   "outputs": [
    {
     "name": "stdout",
     "output_type": "stream",
     "text": [
      "Testing RMSE: 2.02012924778\n"
     ]
    }
   ],
   "source": [
    "predictions_test = rfLearner.predict(X_test)\n",
    "print('Testing RMSE:', np.sqrt(mean_squared_error(y_test, predictions_test)))"
   ]
  },
  {
   "cell_type": "code",
   "execution_count": 9,
   "metadata": {},
   "outputs": [
    {
     "name": "stdout",
     "output_type": "stream",
     "text": [
      "Training RMSE: 2.18374109222\n"
     ]
    }
   ],
   "source": [
    "from sklearn.ensemble import GradientBoostingRegressor\n",
    "gbLearner = GradientBoostingRegressor(n_estimators=100, learning_rate=0.1, max_depth=1, random_state=0, loss='ls')\n",
    "\n",
    "gbLearner = gbLearner.fit(X_train, y_train)\n",
    "predictions_train = gbLearner.predict(X_train)\n",
    "\n",
    "print('Training RMSE:', np.sqrt(mean_squared_error(y_train, predictions_train)))"
   ]
  },
  {
   "cell_type": "code",
   "execution_count": 17,
   "metadata": {},
   "outputs": [
    {
     "name": "stdout",
     "output_type": "stream",
     "text": [
      "Testing RMSE: 2.59514560408\n"
     ]
    }
   ],
   "source": [
    "predictions_test = gbLearner.predict(X_test)\n",
    "print('Testing RMSE:', np.sqrt(mean_squared_error(y_test, predictions_test)))"
   ]
  },
  {
   "cell_type": "code",
   "execution_count": 19,
   "metadata": {},
   "outputs": [
    {
     "name": "stdout",
     "output_type": "stream",
     "text": [
      "Training RMSE: 1.99366196821\n"
     ]
    }
   ],
   "source": [
    "from sklearn.tree import DecisionTreeRegressor\n",
    "\n",
    "dtLearner = DecisionTreeRegressor(max_depth=4)\n",
    "dtLearner = dtLearner.fit(X_train, y_train)\n",
    "predictions_train = dtLearner.predict(X_train)\n",
    "\n",
    "print('Training RMSE:', np.sqrt(mean_squared_error(y_train, predictions_train)))"
   ]
  },
  {
   "cell_type": "code",
   "execution_count": 20,
   "metadata": {},
   "outputs": [
    {
     "name": "stdout",
     "output_type": "stream",
     "text": [
      "Testing RMSE: 2.40504683453\n"
     ]
    }
   ],
   "source": [
    "predictions_test = dtLearner.predict(X_test)\n",
    "print('Testing RMSE:', np.sqrt(mean_squared_error(y_test, predictions_test)))"
   ]
  },
  {
   "cell_type": "code",
   "execution_count": 13,
   "metadata": {},
   "outputs": [
    {
     "name": "stdout",
     "output_type": "stream",
     "text": [
      "Training RMSE: 11.7988508356\n"
     ]
    }
   ],
   "source": [
    "from sklearn.ensemble import AdaBoostRegressor\n",
    "\n",
    "rng = np.random.RandomState(1)\n",
    "adaLearner = AdaBoostRegressor(DecisionTreeRegressor(max_depth=4), n_estimators=300, random_state=rng)\n",
    "\n",
    "adaLearner = adaLearner.fit(X_train, y_train)\n",
    "predictions_train = adaLearner.predict(X_train)\n",
    "\n",
    "print('Training RMSE:', np.sqrt(mean_squared_error(y_train, predictions_train)))"
   ]
  },
  {
   "cell_type": "code",
   "execution_count": 18,
   "metadata": {},
   "outputs": [
    {
     "name": "stdout",
     "output_type": "stream",
     "text": [
      "Testing RMSE: 11.923029199\n"
     ]
    }
   ],
   "source": [
    "predictions_test = adaLearner.predict(X_test)\n",
    "print('Testing RMSE:', np.sqrt(mean_squared_error(y_test, predictions_test)))"
   ]
  },
  {
   "cell_type": "code",
   "execution_count": 71,
   "metadata": {},
   "outputs": [
    {
     "name": "stdout",
     "output_type": "stream",
     "text": [
      "_________________________________________________________________\n",
      "Layer (type)                 Output Shape              Param #   \n",
      "=================================================================\n",
      "dense_68 (Dense)             (None, 32)                288       \n",
      "_________________________________________________________________\n",
      "batch_normalization_45 (Batc (None, 32)                128       \n",
      "_________________________________________________________________\n",
      "activation_45 (Activation)   (None, 32)                0         \n",
      "_________________________________________________________________\n",
      "dense_69 (Dense)             (None, 64)                2112      \n",
      "_________________________________________________________________\n",
      "batch_normalization_46 (Batc (None, 64)                256       \n",
      "_________________________________________________________________\n",
      "activation_46 (Activation)   (None, 64)                0         \n",
      "_________________________________________________________________\n",
      "dense_70 (Dense)             (None, 1)                 65        \n",
      "=================================================================\n",
      "Total params: 2,849.0\n",
      "Trainable params: 2,657.0\n",
      "Non-trainable params: 192.0\n",
      "_________________________________________________________________\n",
      "Epoch 1/20\n",
      "73912/73912 [==============================] - 3s - loss: 9.4893     \n",
      "Epoch 2/20\n",
      "73912/73912 [==============================] - 2s - loss: 6.8524     \n",
      "Epoch 3/20\n",
      "73912/73912 [==============================] - 2s - loss: 6.6018     \n",
      "Epoch 4/20\n",
      "73912/73912 [==============================] - 2s - loss: 6.4750     \n",
      "Epoch 5/20\n",
      "73912/73912 [==============================] - 2s - loss: 6.0074     \n",
      "Epoch 6/20\n",
      "73912/73912 [==============================] - 2s - loss: 6.0226     \n",
      "Epoch 7/20\n",
      "73912/73912 [==============================] - 2s - loss: 5.8383     \n",
      "Epoch 8/20\n",
      "73912/73912 [==============================] - 2s - loss: 5.7591     \n",
      "Epoch 9/20\n",
      "73912/73912 [==============================] - 2s - loss: 5.3648     \n",
      "Epoch 10/20\n",
      "73912/73912 [==============================] - 2s - loss: 5.3575     \n",
      "Epoch 11/20\n",
      "73912/73912 [==============================] - 2s - loss: 5.1959     \n",
      "Epoch 12/20\n",
      "73912/73912 [==============================] - 2s - loss: 5.2548     \n",
      "Epoch 13/20\n",
      "73912/73912 [==============================] - 2s - loss: 5.0060     \n",
      "Epoch 14/20\n",
      "73912/73912 [==============================] - 2s - loss: 5.0085     \n",
      "Epoch 15/20\n",
      "73912/73912 [==============================] - 2s - loss: 5.0434     \n",
      "Epoch 16/20\n",
      "73912/73912 [==============================] - 2s - loss: 5.1471     \n",
      "Epoch 17/20\n",
      "73912/73912 [==============================] - 2s - loss: 5.2143     \n",
      "Epoch 18/20\n",
      "73912/73912 [==============================] - 2s - loss: 4.9636     \n",
      "Epoch 19/20\n",
      "73912/73912 [==============================] - 2s - loss: 4.9620     \n",
      "Epoch 20/20\n",
      "73912/73912 [==============================] - 2s - loss: 4.9988     \n"
     ]
    },
    {
     "data": {
      "text/plain": [
       "<keras.callbacks.History at 0x7f733c240a90>"
      ]
     },
     "execution_count": 71,
     "metadata": {},
     "output_type": "execute_result"
    }
   ],
   "source": [
    "from keras.models import Sequential\n",
    "from keras.layers import Dense, BatchNormalization, Activation\n",
    "from keras.optimizers import RMSprop\n",
    "\n",
    "model = Sequential()\n",
    "model.add(Dense(32, input_dim=X_train.shape[1]))\n",
    "model.add(BatchNormalization())\n",
    "model.add(Activation('relu'))\n",
    "model.add(Dense(64))\n",
    "model.add(BatchNormalization())\n",
    "model.add(Activation('relu'))\n",
    "\n",
    "model.add(Dense(1, activation='relu'))\n",
    "\n",
    "optimizer = RMSprop(lr=0.005)\n",
    "model.compile(loss='mean_squared_error', optimizer=optimizer)\n",
    "model.summary()\n",
    "\n",
    "model.fit(X_train.values, y_train.values, batch_size=128, epochs=20)"
   ]
  }
 ],
 "metadata": {
  "kernelspec": {
   "display_name": "Python 3",
   "language": "python",
   "name": "python3"
  },
  "language_info": {
   "codemirror_mode": {
    "name": "ipython",
    "version": 3
   },
   "file_extension": ".py",
   "mimetype": "text/x-python",
   "name": "python",
   "nbconvert_exporter": "python",
   "pygments_lexer": "ipython3",
   "version": "3.5.2"
  }
 },
 "nbformat": 4,
 "nbformat_minor": 2
}

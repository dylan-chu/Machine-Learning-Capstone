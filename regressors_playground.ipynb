{
 "cells": [
  {
   "cell_type": "code",
   "execution_count": 1,
   "metadata": {
    "scrolled": true
   },
   "outputs": [
    {
     "data": {
      "text/html": [
       "<div>\n",
       "<style>\n",
       "    .dataframe thead tr:only-child th {\n",
       "        text-align: right;\n",
       "    }\n",
       "\n",
       "    .dataframe thead th {\n",
       "        text-align: left;\n",
       "    }\n",
       "\n",
       "    .dataframe tbody tr th {\n",
       "        vertical-align: top;\n",
       "    }\n",
       "</style>\n",
       "<table border=\"1\" class=\"dataframe\">\n",
       "  <thead>\n",
       "    <tr style=\"text-align: right;\">\n",
       "      <th></th>\n",
       "      <th>date_block_num</th>\n",
       "      <th>shop_id</th>\n",
       "      <th>item_id</th>\n",
       "      <th>item_cnt_day</th>\n",
       "      <th>item_cnt_tm1</th>\n",
       "      <th>item_cnt_tm2</th>\n",
       "      <th>item_cnt_tm12</th>\n",
       "      <th>item_cnt_tp1</th>\n",
       "      <th>categ_id</th>\n",
       "      <th>year</th>\n",
       "      <th>month</th>\n",
       "    </tr>\n",
       "  </thead>\n",
       "  <tbody>\n",
       "    <tr>\n",
       "      <th>0</th>\n",
       "      <td>12</td>\n",
       "      <td>2</td>\n",
       "      <td>32</td>\n",
       "      <td>1.0</td>\n",
       "      <td>0.0</td>\n",
       "      <td>0.0</td>\n",
       "      <td>0.0</td>\n",
       "      <td>0.0</td>\n",
       "      <td>40</td>\n",
       "      <td>2014</td>\n",
       "      <td>0</td>\n",
       "    </tr>\n",
       "    <tr>\n",
       "      <th>1</th>\n",
       "      <td>12</td>\n",
       "      <td>2</td>\n",
       "      <td>33</td>\n",
       "      <td>1.0</td>\n",
       "      <td>1.0</td>\n",
       "      <td>2.0</td>\n",
       "      <td>1.0</td>\n",
       "      <td>0.0</td>\n",
       "      <td>37</td>\n",
       "      <td>2014</td>\n",
       "      <td>0</td>\n",
       "    </tr>\n",
       "    <tr>\n",
       "      <th>2</th>\n",
       "      <td>12</td>\n",
       "      <td>2</td>\n",
       "      <td>99</td>\n",
       "      <td>1.0</td>\n",
       "      <td>0.0</td>\n",
       "      <td>0.0</td>\n",
       "      <td>0.0</td>\n",
       "      <td>0.0</td>\n",
       "      <td>37</td>\n",
       "      <td>2014</td>\n",
       "      <td>0</td>\n",
       "    </tr>\n",
       "    <tr>\n",
       "      <th>3</th>\n",
       "      <td>12</td>\n",
       "      <td>2</td>\n",
       "      <td>482</td>\n",
       "      <td>2.0</td>\n",
       "      <td>1.0</td>\n",
       "      <td>2.0</td>\n",
       "      <td>1.0</td>\n",
       "      <td>1.0</td>\n",
       "      <td>73</td>\n",
       "      <td>2014</td>\n",
       "      <td>0</td>\n",
       "    </tr>\n",
       "    <tr>\n",
       "      <th>4</th>\n",
       "      <td>12</td>\n",
       "      <td>2</td>\n",
       "      <td>485</td>\n",
       "      <td>1.0</td>\n",
       "      <td>1.0</td>\n",
       "      <td>0.0</td>\n",
       "      <td>0.0</td>\n",
       "      <td>1.0</td>\n",
       "      <td>73</td>\n",
       "      <td>2014</td>\n",
       "      <td>0</td>\n",
       "    </tr>\n",
       "  </tbody>\n",
       "</table>\n",
       "</div>"
      ],
      "text/plain": [
       "   date_block_num  shop_id  item_id  item_cnt_day  item_cnt_tm1  item_cnt_tm2  \\\n",
       "0              12        2       32           1.0           0.0           0.0   \n",
       "1              12        2       33           1.0           1.0           2.0   \n",
       "2              12        2       99           1.0           0.0           0.0   \n",
       "3              12        2      482           2.0           1.0           2.0   \n",
       "4              12        2      485           1.0           1.0           0.0   \n",
       "\n",
       "   item_cnt_tm12  item_cnt_tp1  categ_id  year  month  \n",
       "0            0.0           0.0        40  2014      0  \n",
       "1            1.0           0.0        37  2014      0  \n",
       "2            0.0           0.0        37  2014      0  \n",
       "3            1.0           1.0        73  2014      0  \n",
       "4            0.0           1.0        73  2014      0  "
      ]
     },
     "execution_count": 1,
     "metadata": {},
     "output_type": "execute_result"
    }
   ],
   "source": [
    "import numpy as np\n",
    "import pandas as pd\n",
    "\n",
    "training_data = pd.read_csv('input/training_data_0_categ_date.csv')\n",
    "training_data.head()"
   ]
  },
  {
   "cell_type": "code",
   "execution_count": 2,
   "metadata": {},
   "outputs": [
    {
     "data": {
      "text/html": [
       "<div>\n",
       "<style>\n",
       "    .dataframe thead tr:only-child th {\n",
       "        text-align: right;\n",
       "    }\n",
       "\n",
       "    .dataframe thead th {\n",
       "        text-align: left;\n",
       "    }\n",
       "\n",
       "    .dataframe tbody tr th {\n",
       "        vertical-align: top;\n",
       "    }\n",
       "</style>\n",
       "<table border=\"1\" class=\"dataframe\">\n",
       "  <thead>\n",
       "    <tr style=\"text-align: right;\">\n",
       "      <th></th>\n",
       "      <th>shop_id</th>\n",
       "      <th>item_id</th>\n",
       "      <th>item_cnt_day</th>\n",
       "      <th>item_cnt_tm1</th>\n",
       "      <th>item_cnt_tm2</th>\n",
       "      <th>item_cnt_tm12</th>\n",
       "      <th>categ_id</th>\n",
       "      <th>year</th>\n",
       "      <th>month</th>\n",
       "    </tr>\n",
       "  </thead>\n",
       "  <tbody>\n",
       "    <tr>\n",
       "      <th>0</th>\n",
       "      <td>2</td>\n",
       "      <td>32</td>\n",
       "      <td>1.0</td>\n",
       "      <td>0.0</td>\n",
       "      <td>0.0</td>\n",
       "      <td>0.0</td>\n",
       "      <td>40</td>\n",
       "      <td>2014</td>\n",
       "      <td>0</td>\n",
       "    </tr>\n",
       "    <tr>\n",
       "      <th>1</th>\n",
       "      <td>2</td>\n",
       "      <td>33</td>\n",
       "      <td>1.0</td>\n",
       "      <td>1.0</td>\n",
       "      <td>2.0</td>\n",
       "      <td>1.0</td>\n",
       "      <td>37</td>\n",
       "      <td>2014</td>\n",
       "      <td>0</td>\n",
       "    </tr>\n",
       "    <tr>\n",
       "      <th>2</th>\n",
       "      <td>2</td>\n",
       "      <td>99</td>\n",
       "      <td>1.0</td>\n",
       "      <td>0.0</td>\n",
       "      <td>0.0</td>\n",
       "      <td>0.0</td>\n",
       "      <td>37</td>\n",
       "      <td>2014</td>\n",
       "      <td>0</td>\n",
       "    </tr>\n",
       "    <tr>\n",
       "      <th>3</th>\n",
       "      <td>2</td>\n",
       "      <td>482</td>\n",
       "      <td>2.0</td>\n",
       "      <td>1.0</td>\n",
       "      <td>2.0</td>\n",
       "      <td>1.0</td>\n",
       "      <td>73</td>\n",
       "      <td>2014</td>\n",
       "      <td>0</td>\n",
       "    </tr>\n",
       "    <tr>\n",
       "      <th>4</th>\n",
       "      <td>2</td>\n",
       "      <td>485</td>\n",
       "      <td>1.0</td>\n",
       "      <td>1.0</td>\n",
       "      <td>0.0</td>\n",
       "      <td>0.0</td>\n",
       "      <td>73</td>\n",
       "      <td>2014</td>\n",
       "      <td>0</td>\n",
       "    </tr>\n",
       "  </tbody>\n",
       "</table>\n",
       "</div>"
      ],
      "text/plain": [
       "   shop_id  item_id  item_cnt_day  item_cnt_tm1  item_cnt_tm2  item_cnt_tm12  \\\n",
       "0        2       32           1.0           0.0           0.0            0.0   \n",
       "1        2       33           1.0           1.0           2.0            1.0   \n",
       "2        2       99           1.0           0.0           0.0            0.0   \n",
       "3        2      482           2.0           1.0           2.0            1.0   \n",
       "4        2      485           1.0           1.0           0.0            0.0   \n",
       "\n",
       "   categ_id  year  month  \n",
       "0        40  2014      0  \n",
       "1        37  2014      0  \n",
       "2        37  2014      0  \n",
       "3        73  2014      0  \n",
       "4        73  2014      0  "
      ]
     },
     "execution_count": 2,
     "metadata": {},
     "output_type": "execute_result"
    }
   ],
   "source": [
    "y = training_data['item_cnt_tp1']\n",
    "X = training_data.drop(['date_block_num','item_cnt_tp1'], axis=1)\n",
    "X.head()"
   ]
  },
  {
   "cell_type": "code",
   "execution_count": 6,
   "metadata": {},
   "outputs": [
    {
     "name": "stdout",
     "output_type": "stream",
     "text": [
      "Training set has 73912 samples.\n",
      "Training set has 9 columns.\n",
      "Testing set has 18478 samples.\n"
     ]
    }
   ],
   "source": [
    "# Import train_test_split\n",
    "from sklearn.model_selection import train_test_split\n",
    "\n",
    "# Split the 'features' and 'income' data into training and testing sets\n",
    "X_train, X_test, y_train, y_test = train_test_split(X, \n",
    "                                                    y, \n",
    "                                                    test_size = 0.2, \n",
    "                                                    random_state = 42)\n",
    "\n",
    "# Show the results of the split\n",
    "print(\"Training set has {} samples.\".format(X_train.shape[0]))\n",
    "print(\"Training set has {} columns.\".format(X_train.shape[1]))\n",
    "print(\"Testing set has {} samples.\".format(X_test.shape[0]))"
   ]
  },
  {
   "cell_type": "code",
   "execution_count": 8,
   "metadata": {},
   "outputs": [],
   "source": [
    "from sklearn.metrics import mean_squared_error\n",
    "\n",
    "def calc_RMSE(actuals, predictions):\n",
    "    return np.sqrt(mean_squared_error(actuals, predictions))"
   ]
  },
  {
   "cell_type": "code",
   "execution_count": null,
   "metadata": {},
   "outputs": [],
   "source": [
    "def assess_model(regressor):\n",
    "    regressor_model = regressor.fit(X_train, y_train)\n",
    "\n",
    "    predictions_train = regressor_model.predict(X_train)\n",
    "    print('Training RMSE:', calc_RMSE(y_train, predictions_train))\n",
    "\n",
    "    predictions_test = regressor_model.predict(X_test)\n",
    "    print('Testing RMSE:', calc_RMSE(y_test, predictions_test))    "
   ]
  },
  {
   "cell_type": "code",
   "execution_count": null,
   "metadata": {},
   "outputs": [],
   "source": [
    "from sklearn import linear_model.LinearRegression\n",
    "\n",
    "algo = LinearRegression()\n",
    "assess_model(algo)"
   ]
  },
  {
   "cell_type": "code",
   "execution_count": 10,
   "metadata": {},
   "outputs": [
    {
     "name": "stdout",
     "output_type": "stream",
     "text": [
      "Training RMSE: 2.01804112145\n",
      "Testing RMSE: 2.32785924455\n"
     ]
    }
   ],
   "source": [
    "from sklearn.tree import DecisionTreeRegressor\n",
    "\n",
    "algo = DecisionTreeRegressor(max_depth=4)\n",
    "assess_model(algo)"
   ]
  },
  {
   "cell_type": "code",
   "execution_count": null,
   "metadata": {},
   "outputs": [],
   "source": [
    "from sklearn.svm import SVR\n",
    "\n",
    "svr_lin = SVR(kernel='linear', C=1e3)\n",
    "assess_model(svr_rbf)"
   ]
  },
  {
   "cell_type": "code",
   "execution_count": null,
   "metadata": {},
   "outputs": [],
   "source": [
    "svr_rbf = SVR(kernel='rbf', C=1e3, gamma=0.1)\n",
    "assess_model(svr_rbf)"
   ]
  },
  {
   "cell_type": "code",
   "execution_count": null,
   "metadata": {},
   "outputs": [],
   "source": [
    "svr_poly = SVR(kernel='poly', C=1e3, degree=2)\n",
    "assess_model(svr_poly)"
   ]
  },
  {
   "cell_type": "code",
   "execution_count": 102,
   "metadata": {},
   "outputs": [
    {
     "name": "stdout",
     "output_type": "stream",
     "text": [
      "Training RMSE: 7.6424001107\n",
      "Testing RMSE: 7.76636463966\n"
     ]
    }
   ],
   "source": [
    "from sklearn.ensemble import AdaBoostRegressor\n",
    "\n",
    "rng = np.random.RandomState(1)\n",
    "algo = AdaBoostRegressor(DecisionTreeRegressor(max_depth=4), n_estimators=300, random_state=rng)\n",
    "assess_model(algo)"
   ]
  },
  {
   "cell_type": "code",
   "execution_count": null,
   "metadata": {},
   "outputs": [],
   "source": [
    "from sklearn.ensemble import BaggingRegressor\n",
    "\n",
    "algo = BaggingRegressor()\n",
    "assess_model(algo)"
   ]
  },
  {
   "cell_type": "code",
   "execution_count": null,
   "metadata": {},
   "outputs": [],
   "source": [
    "from sklearn.ensemble import ExtraTreesRegressor\n",
    "\n",
    "algo = ExtraTreesRegressor()\n",
    "assess_model(algo)"
   ]
  },
  {
   "cell_type": "code",
   "execution_count": 100,
   "metadata": {},
   "outputs": [
    {
     "name": "stdout",
     "output_type": "stream",
     "text": [
      "Training RMSE: 2.18374109222\n",
      "Testing RMSE: 2.59514560408\n"
     ]
    }
   ],
   "source": [
    "from sklearn.ensemble import GradientBoostingRegressor\n",
    "\n",
    "algo = GradientBoostingRegressor(n_estimators=100, learning_rate=0.1, max_depth=1, random_state=0, loss='ls')\n",
    "assess_model(algo)"
   ]
  },
  {
   "cell_type": "code",
   "execution_count": 99,
   "metadata": {},
   "outputs": [
    {
     "name": "stdout",
     "output_type": "stream",
     "text": [
      "Training RMSE: 0.876969664717\n",
      "Testing RMSE: 2.09983634986\n"
     ]
    }
   ],
   "source": [
    "from sklearn.ensemble import RandomForestRegressor\n",
    "\n",
    "#learner = RandomForestRegressor(max_depth=10, random_state=42)\n",
    "algo = RandomForestRegressor(random_state=42)\n",
    "assess_model(algo)"
   ]
  },
  {
   "cell_type": "code",
   "execution_count": 130,
   "metadata": {},
   "outputs": [
    {
     "name": "stdout",
     "output_type": "stream",
     "text": [
      "Training RMSE: 0.00463794653646\n",
      "Testing RMSE: 0.0538936811326\n"
     ]
    }
   ],
   "source": [
    "import xgboost as xgb\n",
    "from sklearn.model_selection import KFold\n",
    "\n",
    "#kf = KFold(n_splits=2, shuffle=True, random_state=rng)\n",
    "#for train_index, test_index in kf.split(X):\n",
    "#    xgb_model = xgb.XGBRegressor().fit(X[train_index], y[train_index])\n",
    "#    predictions = xgb_model.predict(X[test_index])\n",
    "#    actuals = y[test_index]\n",
    "#    print('Testing RMSE:', np.sqrt(mean_squared_error(actuals, predictions)))\n",
    "\n",
    "algo = xgb.XGBRegressor()\n",
    "assess_model(algo)"
   ]
  },
  {
   "cell_type": "code",
   "execution_count": 133,
   "metadata": {},
   "outputs": [
    {
     "name": "stdout",
     "output_type": "stream",
     "text": [
      "Training RMSE: 0.141827152999\n",
      "Testing RMSE: 0.216376992146\n"
     ]
    }
   ],
   "source": [
    "from lightgbm.sklearn import LGBMRegressor\n",
    "\n",
    "algo = LGBMRegressor()\n",
    "assess_model(algo)"
   ]
  },
  {
   "cell_type": "code",
   "execution_count": 110,
   "metadata": {},
   "outputs": [
    {
     "data": {
      "text/html": [
       "<div>\n",
       "<style>\n",
       "    .dataframe thead tr:only-child th {\n",
       "        text-align: right;\n",
       "    }\n",
       "\n",
       "    .dataframe thead th {\n",
       "        text-align: left;\n",
       "    }\n",
       "\n",
       "    .dataframe tbody tr th {\n",
       "        vertical-align: top;\n",
       "    }\n",
       "</style>\n",
       "<table border=\"1\" class=\"dataframe\">\n",
       "  <thead>\n",
       "    <tr style=\"text-align: right;\">\n",
       "      <th></th>\n",
       "      <th>date_block_num</th>\n",
       "      <th>shop_id</th>\n",
       "      <th>item_id</th>\n",
       "      <th>item_cnt_day</th>\n",
       "      <th>item_cnt_tm1</th>\n",
       "      <th>item_cnt_tm2</th>\n",
       "      <th>item_cnt_tm12</th>\n",
       "      <th>item_cnt_tp1</th>\n",
       "      <th>categ_id</th>\n",
       "      <th>year</th>\n",
       "      <th>month</th>\n",
       "    </tr>\n",
       "  </thead>\n",
       "  <tbody>\n",
       "    <tr>\n",
       "      <th>0</th>\n",
       "      <td>12</td>\n",
       "      <td>2</td>\n",
       "      <td>32</td>\n",
       "      <td>1.0</td>\n",
       "      <td>0.0</td>\n",
       "      <td>0.0</td>\n",
       "      <td>0.0</td>\n",
       "      <td>-0.249383</td>\n",
       "      <td>40</td>\n",
       "      <td>2014</td>\n",
       "      <td>0</td>\n",
       "    </tr>\n",
       "    <tr>\n",
       "      <th>1</th>\n",
       "      <td>12</td>\n",
       "      <td>2</td>\n",
       "      <td>33</td>\n",
       "      <td>1.0</td>\n",
       "      <td>1.0</td>\n",
       "      <td>2.0</td>\n",
       "      <td>1.0</td>\n",
       "      <td>-0.249383</td>\n",
       "      <td>37</td>\n",
       "      <td>2014</td>\n",
       "      <td>0</td>\n",
       "    </tr>\n",
       "    <tr>\n",
       "      <th>2</th>\n",
       "      <td>12</td>\n",
       "      <td>2</td>\n",
       "      <td>99</td>\n",
       "      <td>1.0</td>\n",
       "      <td>0.0</td>\n",
       "      <td>0.0</td>\n",
       "      <td>0.0</td>\n",
       "      <td>-0.249383</td>\n",
       "      <td>37</td>\n",
       "      <td>2014</td>\n",
       "      <td>0</td>\n",
       "    </tr>\n",
       "    <tr>\n",
       "      <th>3</th>\n",
       "      <td>12</td>\n",
       "      <td>2</td>\n",
       "      <td>482</td>\n",
       "      <td>2.0</td>\n",
       "      <td>1.0</td>\n",
       "      <td>2.0</td>\n",
       "      <td>1.0</td>\n",
       "      <td>0.001657</td>\n",
       "      <td>73</td>\n",
       "      <td>2014</td>\n",
       "      <td>0</td>\n",
       "    </tr>\n",
       "    <tr>\n",
       "      <th>4</th>\n",
       "      <td>12</td>\n",
       "      <td>2</td>\n",
       "      <td>485</td>\n",
       "      <td>1.0</td>\n",
       "      <td>1.0</td>\n",
       "      <td>0.0</td>\n",
       "      <td>0.0</td>\n",
       "      <td>0.001657</td>\n",
       "      <td>73</td>\n",
       "      <td>2014</td>\n",
       "      <td>0</td>\n",
       "    </tr>\n",
       "  </tbody>\n",
       "</table>\n",
       "</div>"
      ],
      "text/plain": [
       "   date_block_num  shop_id  item_id  item_cnt_day  item_cnt_tm1  item_cnt_tm2  \\\n",
       "0              12        2       32           1.0           0.0           0.0   \n",
       "1              12        2       33           1.0           1.0           2.0   \n",
       "2              12        2       99           1.0           0.0           0.0   \n",
       "3              12        2      482           2.0           1.0           2.0   \n",
       "4              12        2      485           1.0           1.0           0.0   \n",
       "\n",
       "   item_cnt_tm12  item_cnt_tp1  categ_id  year  month  \n",
       "0            0.0     -0.249383        40  2014      0  \n",
       "1            1.0     -0.249383        37  2014      0  \n",
       "2            0.0     -0.249383        37  2014      0  \n",
       "3            1.0      0.001657        73  2014      0  \n",
       "4            0.0      0.001657        73  2014      0  "
      ]
     },
     "execution_count": 110,
     "metadata": {},
     "output_type": "execute_result"
    }
   ],
   "source": [
    "from sklearn.preprocessing import StandardScaler\n",
    "\n",
    "cnt_scaler = StandardScaler()\n",
    "cnt_scaler.fit(training_data.item_cnt_tp1.values.reshape(-1, 1))\n",
    "training_data.item_cnt_tp1 = cnt_scaler.transform(training_data.item_cnt_tp1.values.reshape(-1, 1))\n",
    "training_data.head()"
   ]
  },
  {
   "cell_type": "code",
   "execution_count": 117,
   "metadata": {},
   "outputs": [
    {
     "name": "stdout",
     "output_type": "stream",
     "text": [
      "_________________________________________________________________\n",
      "Layer (type)                 Output Shape              Param #   \n",
      "=================================================================\n",
      "dense_95 (Dense)             (None, 32)                320       \n",
      "_________________________________________________________________\n",
      "batch_normalization_61 (Batc (None, 32)                128       \n",
      "_________________________________________________________________\n",
      "activation_63 (Activation)   (None, 32)                0         \n",
      "_________________________________________________________________\n",
      "dense_96 (Dense)             (None, 64)                2112      \n",
      "_________________________________________________________________\n",
      "batch_normalization_62 (Batc (None, 64)                256       \n",
      "_________________________________________________________________\n",
      "activation_64 (Activation)   (None, 64)                0         \n",
      "_________________________________________________________________\n",
      "dense_97 (Dense)             (None, 32)                2080      \n",
      "_________________________________________________________________\n",
      "batch_normalization_63 (Batc (None, 32)                128       \n",
      "_________________________________________________________________\n",
      "activation_65 (Activation)   (None, 32)                0         \n",
      "_________________________________________________________________\n",
      "dense_98 (Dense)             (None, 1)                 33        \n",
      "=================================================================\n",
      "Total params: 5,057.0\n",
      "Trainable params: 4,801.0\n",
      "Non-trainable params: 256.0\n",
      "_________________________________________________________________\n",
      "Epoch 1/20\n",
      "73912/73912 [==============================] - 4s - loss: 0.9125     \n",
      "Epoch 2/20\n",
      "73912/73912 [==============================] - 3s - loss: 0.4856     \n",
      "Epoch 3/20\n",
      "73912/73912 [==============================] - 3s - loss: 0.3986     \n",
      "Epoch 4/20\n",
      "73912/73912 [==============================] - 3s - loss: 0.3765     \n",
      "Epoch 5/20\n",
      "73912/73912 [==============================] - 3s - loss: 0.3673     \n",
      "Epoch 6/20\n",
      "73912/73912 [==============================] - 3s - loss: 0.3654     \n",
      "Epoch 7/20\n",
      "73912/73912 [==============================] - 3s - loss: 0.3446     \n",
      "Epoch 8/20\n",
      "73912/73912 [==============================] - 3s - loss: 0.3640     \n",
      "Epoch 9/20\n",
      "73912/73912 [==============================] - 3s - loss: 0.3445     \n",
      "Epoch 10/20\n",
      "73912/73912 [==============================] - 3s - loss: 0.3418     \n",
      "Epoch 11/20\n",
      "73912/73912 [==============================] - 3s - loss: 0.3255     \n",
      "Epoch 12/20\n",
      "73912/73912 [==============================] - 3s - loss: 0.3254     \n",
      "Epoch 13/20\n",
      "73912/73912 [==============================] - 3s - loss: 0.3381     \n",
      "Epoch 14/20\n",
      "73912/73912 [==============================] - 3s - loss: 0.3349     \n",
      "Epoch 15/20\n",
      "73912/73912 [==============================] - 3s - loss: 0.3193     \n",
      "Epoch 16/20\n",
      "73912/73912 [==============================] - 3s - loss: 0.3279     \n",
      "Epoch 17/20\n",
      "73912/73912 [==============================] - 3s - loss: 0.3322     \n",
      "Epoch 18/20\n",
      "73912/73912 [==============================] - 3s - loss: 0.3285     \n",
      "Epoch 19/20\n",
      "73912/73912 [==============================] - 3s - loss: 0.3325     \n",
      "Epoch 20/20\n",
      "73912/73912 [==============================] - 3s - loss: 0.3712     \n"
     ]
    },
    {
     "data": {
      "text/plain": [
       "<keras.callbacks.History at 0x7f7335c00b00>"
      ]
     },
     "execution_count": 117,
     "metadata": {},
     "output_type": "execute_result"
    }
   ],
   "source": [
    "from keras.models import Sequential\n",
    "from keras.layers import Dense, BatchNormalization, Activation\n",
    "from keras.optimizers import RMSprop\n",
    "\n",
    "model = Sequential()\n",
    "model.add(Dense(32, input_dim=9))\n",
    "model.add(BatchNormalization())\n",
    "model.add(Activation('relu'))\n",
    "model.add(Dense(64))\n",
    "model.add(BatchNormalization())\n",
    "model.add(Activation('relu'))\n",
    "model.add(Dense(32, input_dim=9))\n",
    "model.add(BatchNormalization())\n",
    "model.add(Activation('relu'))\n",
    "\n",
    "model.add(Dense(1, activation='relu'))\n",
    "\n",
    "optimizer = RMSprop(lr=0.001)\n",
    "model.compile(loss='mean_squared_error', optimizer=optimizer)\n",
    "model.summary()\n",
    "\n",
    "model.fit(X_train.values, y_train.values, batch_size=128, epochs=20)"
   ]
  },
  {
   "cell_type": "code",
   "execution_count": 118,
   "metadata": {},
   "outputs": [
    {
     "name": "stdout",
     "output_type": "stream",
     "text": [
      "RMSE train 2.38773382106\n",
      "RMSE test 2.70611169862\n"
     ]
    }
   ],
   "source": [
    "predictions_train = model.predict(X_train.values)\n",
    "predictions_train = cnt_scaler.inverse_transform(predictions_train)\n",
    "y_train_scaled = cnt_scaler.inverse_transform(y_train)\n",
    "print('RMSE train', np.sqrt(mean_squared_error(predictions_train, y_train_scaled)))\n",
    "\n",
    "predictions_test = model.predict(X_test.values)\n",
    "predictions_test = cnt_scaler.inverse_transform(predictions_test)\n",
    "y_test_scaled = cnt_scaler.inverse_transform(y_test)\n",
    "print('RMSE test', np.sqrt(mean_squared_error(predictions_test, y_test_scaled)))"
   ]
  }
 ],
 "metadata": {
  "kernelspec": {
   "display_name": "Python 3",
   "language": "python",
   "name": "python3"
  },
  "language_info": {
   "codemirror_mode": {
    "name": "ipython",
    "version": 3
   },
   "file_extension": ".py",
   "mimetype": "text/x-python",
   "name": "python",
   "nbconvert_exporter": "python",
   "pygments_lexer": "ipython3",
   "version": "3.5.2"
  }
 },
 "nbformat": 4,
 "nbformat_minor": 2
}
